{
 "cells": [
  {
   "cell_type": "code",
   "execution_count": null,
   "id": "fc2aebf5",
   "metadata": {},
   "outputs": [],
   "source": [
    "# !pip install urllib3==1.26.15 requests-toolbelt==0.10.1\n",
    "# !pip install requests==2.27.1 --user"
   ]
  },
  {
   "cell_type": "code",
   "execution_count": null,
   "id": "acd5cab3",
   "metadata": {},
   "outputs": [],
   "source": [
    "import os\n",
    "import sys\n",
    "import utils\n",
    "\n",
    "from xbmc import KodiNavigationStack\n",
    "from xbmcplugin import PluginRecorder\n",
    "import importlib\n",
    "\n",
    "plugin = PluginRecorder()\n",
    "nav_stack = KodiNavigationStack()\n",
    "\n",
    "# utils.init(os.path.expanduser(\"~\"))\n",
    "utils.init('.')\n",
    "\n",
    "kod_folder_name = 'plugin.video.kod'\n",
    "url = 'https://github.com/kodiondemand/addon/archive/refs/heads/master.zip'\n",
    "utils.download_and_extract_plugin(url, kod_folder_name, False)\n",
    "\n",
    "sys.path.append(os.path.join(utils.full_addons_path(), kod_folder_name))"
   ]
  },
  {
   "cell_type": "code",
   "execution_count": null,
   "id": "5c51553d-2acc-49ba-85ed-09d0c79f0a3f",
   "metadata": {},
   "outputs": [],
   "source": [
    "sys.argv = [f'plugin://{kod_folder_name}/', '3', \"\"]\n",
    "# sys.argv[2] = '?ewogICAgImFjdGlvbiI6ICJmaW5kdmlkZW9zIiwKICAgICJhcmdzIjogIiIsCiAgICAiY2hhbm5lbCI6ICJsYTciLAogICAgImV4dHJhIjogIm1vdmllIiwKICAgICJmb2xkZXIiOiB0cnVlLAogICAgImZvcmNldGh1bWIiOiB0cnVlLAogICAgImZ1bGx0aXRsZSI6ICJMYTciLAogICAgImdsb2JhbHNlYXJjaCI6IGZhbHNlLAogICAgImluZm9MYWJlbHMiOiB7CiAgICAgICAgIm1lZGlhdHlwZSI6ICJtb3ZpZSIKICAgIH0sCiAgICAiaXRlbWxpc3RQb3NpdGlvbiI6IDAsCiAgICAibm9fcmV0dXJuIjogdHJ1ZSwKICAgICJ0aHVtYm5haWwiOiAiaHR0cHM6Ly9yYXcuZ2l0aHVidXNlcmNvbnRlbnQuY29tL2tvZGlvbmRlbWFuZC9tZWRpYS9tYXN0ZXIvbGl2ZS9sYTcucG5nIiwKICAgICJ0aXRsZSI6ICJbQl1MYTdbL0JdIiwKICAgICJ1cmwiOiAiaHR0cHM6Ly93d3cubGE3Lml0L2RpcmV0dGUtdHYiCn0%3D'\n",
    "nav_stack._path_stack.append(sys.argv[0]+sys.argv[2])\n",
    "\n",
    "module_name = 'default'\n",
    "\n",
    "if module_name in globals():\n",
    "    module = globals()[module_name]\n",
    "else:\n",
    "    module = importlib.import_module(module_name)\n",
    "    module = importlib.reload(module)"
   ]
  },
  {
   "cell_type": "code",
   "execution_count": null,
   "id": "20792b3e",
   "metadata": {},
   "outputs": [],
   "source": [
    "nav_stack"
   ]
  },
  {
   "cell_type": "code",
   "execution_count": null,
   "id": "6fd7082a",
   "metadata": {},
   "outputs": [],
   "source": [
    "from xbmcgui import MockGUI\n",
    "mock_gui = MockGUI()\n",
    "widgets = mock_gui.get_widgets()\n",
    "widgets"
   ]
  },
  {
   "cell_type": "code",
   "execution_count": null,
   "id": "a1d63537",
   "metadata": {},
   "outputs": [],
   "source": [
    "import importlib\n",
    "\n",
    "def select_item(index):\n",
    "    choice = nav_stack.items[-1][index]\n",
    "    if choice[2]:\n",
    "        nav_stack._path_stack.append(choice[0])\n",
    "        sys.argv[2] = nav_stack._path_stack[-1]\n",
    "    else:\n",
    "        sys.argv[2] = choice[0]\n",
    "    importlib.reload(default);\n",
    "\n",
    "def back():\n",
    "    nav_stack.items.pop()\n",
    "    nav_stack._path_stack.pop()\n",
    "    sys.argv[2] = nav_stack._path_stack[-1]\n",
    "    importlib.reload(default);\n",
    "\n",
    "select_item(1)"
   ]
  },
  {
   "cell_type": "code",
   "execution_count": null,
   "id": "0be604ab",
   "metadata": {},
   "outputs": [],
   "source": [
    "nav_stack.items[-1][1]"
   ]
  },
  {
   "cell_type": "code",
   "execution_count": null,
   "id": "bdd4ecc4",
   "metadata": {},
   "outputs": [],
   "source": [
    "from utils import decode_plugin_path\n",
    "\n",
    "for dir_item in plugin['directory_item']:\n",
    "    path, listitem, is_folder, __ = dir_item\n",
    "    print(is_folder, decode_plugin_path(path))"
   ]
  },
  {
   "cell_type": "code",
   "execution_count": null,
   "id": "f9e48498",
   "metadata": {},
   "outputs": [],
   "source": [
    "plugin['directory_item']"
   ]
  },
  {
   "cell_type": "code",
   "execution_count": null,
   "id": "df5d8253",
   "metadata": {},
   "outputs": [],
   "source": [
    "import platformcode"
   ]
  },
  {
   "cell_type": "code",
   "execution_count": null,
   "id": "72be1eda",
   "metadata": {},
   "outputs": [],
   "source": [
    "from platformcode.updater import check\n",
    "check()"
   ]
  },
  {
   "cell_type": "code",
   "execution_count": null,
   "id": "0e4e578d",
   "metadata": {},
   "outputs": [],
   "source": [
    "from channelselector import *\n",
    "channels = filterchannels('live')\n",
    "livestreams = []\n",
    "for channel in channels:\n",
    "    exec(\"import channels.\" + channel.channel + \" as provider\")\n",
    "    for item in eval(f\"provider.mainlist(channel)\"):\n",
    "        if item.action == 'live':\n",
    "            for livechannels in (eval(f\"provider.{item.action}(item)\")):\n",
    "                livestreams.append(eval(\"provider.findvideos(livechannels)\"))\n",
    "livestreams"
   ]
  },
  {
   "cell_type": "code",
   "execution_count": null,
   "id": "7a45228b",
   "metadata": {},
   "outputs": [],
   "source": [
    "channel.mainlist(channels[13])"
   ]
  },
  {
   "cell_type": "code",
   "execution_count": null,
   "id": "84deea75",
   "metadata": {},
   "outputs": [],
   "source": [
    "from core.item import Item\n",
    "from channels import la7"
   ]
  },
  {
   "cell_type": "code",
   "execution_count": null,
   "id": "ab7395b9",
   "metadata": {},
   "outputs": [],
   "source": [
    "item = Item()\n",
    "item.channel = 'La7'\n",
    "item.global_search = True\n",
    "lives = la7.live(item)\n",
    "playable_items = []\n",
    "for live in lives:\n",
    "    playable_items.append(la7.findvideos(live))"
   ]
  },
  {
   "cell_type": "code",
   "execution_count": null,
   "id": "bd280589",
   "metadata": {},
   "outputs": [],
   "source": [
    "playable_items"
   ]
  }
 ],
 "metadata": {
  "kernelspec": {
   "display_name": "Python 3 (ipykernel)",
   "language": "python",
   "name": "python3"
  },
  "language_info": {
   "codemirror_mode": {
    "name": "ipython",
    "version": 3
   },
   "file_extension": ".py",
   "mimetype": "text/x-python",
   "name": "python",
   "nbconvert_exporter": "python",
   "pygments_lexer": "ipython3",
   "version": "3.11.4"
  }
 },
 "nbformat": 4,
 "nbformat_minor": 5
}
