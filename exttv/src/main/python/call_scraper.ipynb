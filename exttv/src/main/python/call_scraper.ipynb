{
 "cells": [
  {
   "cell_type": "code",
   "execution_count": null,
   "id": "fc2aebf5",
   "metadata": {},
   "outputs": [],
   "source": [
    "# !pip install urllib3==1.26.15 requests-toolbelt==0.10.1\n",
    "# !pip install requests==2.27.1 --user"
   ]
  },
  {
   "cell_type": "code",
   "execution_count": 1,
   "id": "acd5cab3",
   "metadata": {},
   "outputs": [
    {
     "name": "stdout",
     "output_type": "stream",
     "text": [
      "Could not import MainActivity No module named 'android'\n",
      "Could not import MainActivity No module named 'java'\n",
      "Downloaded .\\exttv_home/addons/master.zip successfully\n",
      ".\\exttv_home/addons/plugin.video.rivedila7-master\n",
      "Plugin plugin.video.rivedila7 extracted successfully.\n"
     ]
    }
   ],
   "source": [
    "import os\n",
    "import sys\n",
    "import utils\n",
    "\n",
    "from xbmcplugin import PluginRecorder\n",
    "plugin = PluginRecorder()\n",
    "\n",
    "# utils.init(os.path.expanduser(\"~\"))\n",
    "utils.init('.')\n",
    "\n",
    "# utils.download_and_extract_plugin(\"kodiondemand\", \"addon\", False)\n",
    "# sys.path.append(os.path.join(utils.full_addons_path(), 'plugin.video.kod'))\n",
    "\n",
    "utils.download_and_extract_plugin(\"luivit\", \"plugin.video.rivedila7\", False)\n",
    "sys.path.append(os.path.join(utils.full_addons_path(), 'plugin.video.rivedila7'))"
   ]
  },
  {
   "cell_type": "code",
   "execution_count": 2,
   "id": "5c51553d-2acc-49ba-85ed-09d0c79f0a3f",
   "metadata": {},
   "outputs": [
    {
     "name": "stdout",
     "output_type": "stream",
     "text": [
      "<function getCondVisibility at 0x0000016C694FD3A0> system.platform.linux\n",
      "<function getCondVisibility at 0x0000016C694FD3A0> system.platform.android\n"
     ]
    }
   ],
   "source": [
    "# argv2 = '?ewogICAgImFjdGlvbiI6ICJtYWlubGlzdCIsCiAgICAiY2F0ZWdvcnkiOiAiQ2F0ZWdvcmllIiwKICAgICJjaGFubmVsIjogIm5ld3MiLAogICAgImNvbnRleHQiOiBbCiAgICAgICAgewogICAgICAgICAgICAiYWN0aW9uIjogIlNldHRpbmdPblBvc2l0aW9uIiwKICAgICAgICAgICAgImNhdGVnb3J5IjogNywKICAgICAgICAgICAgImNoYW5uZWwiOiAic2hvcnRjdXRzIiwKICAgICAgICAgICAgInNldHRpbmciOiAxLAogICAgICAgICAgICAidGl0bGUiOiAiQ29uZmlndXJhIG5vdml0XHUwMGUwIgogICAgICAgIH0KICAgIF0sCiAgICAiaW5mb0xhYmVscyI6IHt9LAogICAgIml0ZW1saXN0UG9zaXRpb24iOiAwLAogICAgInRodW1ibmFpbCI6ICJodHRwczovL3Jhdy5naXRodWJ1c2VyY29udGVudC5jb20va29kaW9uZGVtYW5kL21lZGlhL21hc3Rlci90aGVtZXMvZGVmYXVsdC90aHVtYl9uZXdzLnBuZyIsCiAgICAidGl0bGUiOiAiTm92aXRcdTAwZTAiLAogICAgInZpZXdtb2RlIjogInRodW1ibmFpbHMiCn0%3D'\n",
    "# argv2 = '?ewogICAgImFjdGlvbiI6ICJub3ZlZGFkZXMiLAogICAgImNhdGVnb3J5IjogIk5vdml0XHUwMGUwIGluIEZpbG0iLAogICAgImNoYW5uZWwiOiAibmV3cyIsCiAgICAiY29udGV4dCI6IFsKICAgICAgICB7CiAgICAgICAgICAgICJhY3Rpb24iOiAic2V0dGluZ19jaGFubmVsIiwKICAgICAgICAgICAgImNoYW5uZWwiOiAibmV3cyIsCiAgICAgICAgICAgICJleHRyYSI6ICJwZWxpY3VsYXMiLAogICAgICAgICAgICAidGl0bGUiOiAiQ2FuYWxpIGluY2x1c2kgaW46IEZpbG0iCiAgICAgICAgfQogICAgXSwKICAgICJleHRyYSI6ICJwZWxpY3VsYXMiLAogICAgImluZm9MYWJlbHMiOiB7CiAgICAgICAgIm1lZGlhdHlwZSI6ICJtb3ZpZSIKICAgIH0sCiAgICAiaXRlbWxpc3RQb3NpdGlvbiI6IDAsCiAgICAidGh1bWJuYWlsIjogImh0dHBzOi8vcmF3LmdpdGh1YnVzZXJjb250ZW50LmNvbS9rb2Rpb25kZW1hbmQvbWVkaWEvbWFzdGVyL3RoZW1lcy9kZWZhdWx0L3RodW1iX21vdmllLnBuZyIsCiAgICAidGl0bGUiOiAiRmlsbSIKfQ%3D%3D'\n",
    "# path = 'plugin://plugin.video.kod/?ewogICAgImFjdGlvbiI6ICJmaW5kdmlkZW9zIiwKICAgICJhcmdzIjogIiIsCiAgICAiY2hhbm5lbCI6ICJsYTciLAogICAgImV4dHJhIjogIm1vdmllIiwKICAgICJmb2xkZXIiOiB0cnVlLAogICAgImZvcmNldGh1bWIiOiB0cnVlLAogICAgImZ1bGx0aXRsZSI6ICJMYTciLAogICAgImdsb2JhbHNlYXJjaCI6IGZhbHNlLAogICAgImluZm9MYWJlbHMiOiB7CiAgICAgICAgIm1lZGlhdHlwZSI6ICJtb3ZpZSIKICAgIH0sCiAgICAiaXRlbWxpc3RQb3NpdGlvbiI6IDAsCiAgICAibm9fcmV0dXJuIjogdHJ1ZSwKICAgICJ0aHVtYm5haWwiOiAiaHR0cHM6Ly9yYXcuZ2l0aHVidXNlcmNvbnRlbnQuY29tL2tvZGlvbmRlbWFuZC9tZWRpYS9tYXN0ZXIvbGl2ZS9sYTcucG5nIiwKICAgICJ0aXRsZSI6ICJbQl1MYTdbL0JdIiwKICAgICJ1cmwiOiAiaHR0cHM6Ly93d3cubGE3Lml0L2RpcmV0dGUtdHYiCn0%3D'\n",
    "# argv2 = \"?ewogICAgImFjdGlvbiI6ICJub3ZlZGFkZXMiLAogICAgImNhdGVnb3J5IjogIk5vdml0XHUwMGUwIGluIEZpbG0iLAogICAgImNoYW5uZWwiOiAibmV3cyIsCiAgICAiY29udGV4dCI6IFsKICAgICAgICB7CiAgICAgICAgICAgICJhY3Rpb24iOiAic2V0dGluZ19jaGFubmVsIiwKICAgICAgICAgICAgImNoYW5uZWwiOiAibmV3cyIsCiAgICAgICAgICAgICJleHRyYSI6ICJwZWxpY3VsYXMiLAogICAgICAgICAgICAidGl0bGUiOiAiQ2FuYWxpIGluY2x1c2kgaW46IEZpbG0iCiAgICAgICAgfQogICAgXSwKICAgICJleHRyYSI6ICJwZWxpY3VsYXMiLAogICAgImluZm9MYWJlbHMiOiB7CiAgICAgICAgIm1lZGlhdHlwZSI6ICJtb3ZpZSIKICAgIH0sCiAgICAiaXRlbWxpc3RQb3NpdGlvbiI6IDAsCiAgICAidGh1bWJuYWlsIjogImh0dHBzOi8vcmF3LmdpdGh1YnVzZXJjb250ZW50LmNvbS9rb2Rpb25kZW1hbmQvbWVkaWEvbWFzdGVyL3RoZW1lcy9kZWZhdWx0L3RodW1iX21vdmllLnBuZyIsCiAgICAidGl0bGUiOiAiRmlsbSIKfQ%3D%3D\"\n",
    "# argv2 = \"?ewogICAgImFjdGlvbiI6ICJmaW5kdmlkZW9zIiwKICAgICJhcmdzIjogIiIsCiAgICAiY2hhbm5lbCI6ICJsYTciLAogICAgImV4dHJhIjogIm1vdmllIiwKICAgICJmb2xkZXIiOiB0cnVlLAogICAgImZvcmNldGh1bWIiOiB0cnVlLAogICAgImZ1bGx0aXRsZSI6ICJMYTciLAogICAgImdsb2JhbHNlYXJjaCI6IGZhbHNlLAogICAgImluZm9MYWJlbHMiOiB7CiAgICAgICAgIm1lZGlhdHlwZSI6ICJtb3ZpZSIKICAgIH0sCiAgICAiaXRlbWxpc3RQb3NpdGlvbiI6IDAsCiAgICAibm9fcmV0dXJuIjogdHJ1ZSwKICAgICJ0aHVtYm5haWwiOiAiaHR0cHM6Ly9yYXcuZ2l0aHVidXNlcmNvbnRlbnQuY29tL2tvZGlvbmRlbWFuZC9tZWRpYS9tYXN0ZXIvbGl2ZS9sYTcucG5nIiwKICAgICJ0aXRsZSI6ICJbQl1MYTdbL0JdIiwKICAgICJ1cmwiOiAiaHR0cHM6Ly93d3cubGE3Lml0L2RpcmV0dGUtdHYiCn0%3D\"\n",
    "# path = \"plugin://plugin.video.kod/?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%3D\"\n",
    "\n",
    "# Rai1 diretta\n",
    "# path = 'plugin://plugin.video.kod/?ewogICAgImFjdGlvbiI6ICJmaW5kdmlkZW9zIiwKICAgICJhcmdzIjogIi9wYWxpbnNlc3RvL29uQWlyLmpzb24iLAogICAgImNoYW5uZWwiOiAicmFpcGxheSIsCiAgICAiZXh0cmEiOiAibW92aWUiLAogICAgImZhbmFydCI6ICJodHRwczovL3d3dy5yYWlwbGF5Lml0L2RsL2ltZy8yMDI0LzA3LzMwLzE3MjIzNTgwNDIwMjRfMTcyMjM1ODAwNTY3NS5wbmciLAogICAgImZvbGRlciI6IHRydWUsCiAgICAiZm9yY2V0aHVtYiI6IHRydWUsCiAgICAiZnVsbHRpdGxlIjogIlJhaSAxIiwKICAgICJnbG9iYWxzZWFyY2giOiBmYWxzZSwKICAgICJpbmZvTGFiZWxzIjogewogICAgICAgICJtZWRpYXR5cGUiOiAibW92aWUiLAogICAgICAgICJwbG90IjogIltCXVJlYXppb25lIGEgQ2F0ZW5hIC0gUHVudGF0YSBkZWwgMzAvMDcvMjAyNFsvQl1cbklsIGdpb2NvIGNoZSwgYXR0cmF2ZXJzbyBsJ2Fzc29jaWF6aW9uZSBsb2dpY2EgZGkgcGFyb2xlLCBtZXR0ZSBhbGxhIHByb3ZhIGwnaW50dWl0bywgbGEgcHJvbnRlenphIGUgbGEgcGFkcm9uYW56YSBkZWxsYSBsaW5ndWEgaXRhbGlhbmEgZGVpIGNvbmNvcnJlbnRpIG1hIGFuY2hlIGRlaSB0ZWxlc3BldHRhdG9yaS4gMyBnaW9jYXRvcmkgdHJhIGFtaWNpLCBjb2xsZWdoaSBvIHBhcmVudGksIHNpIHNmaWRhbm8gc3VsbGEgbG9ybyBjYXBhY2l0XHUwMGUwIGRpIGluZG92aW5hcmUsIGZvcm1hcmUsIGNvbXBsZXRhcmUgZSBvcmRpbmFyZSBwYXJvbGUgZSBcImNhdGVuZVwiIGRpIHZvY2Fib2xpLiBTYXJcdTAwZTAgc29wcmF0dHV0dG8gZGVjaXNpdmEgbGEgbG9ybyBjYXBhY2l0XHUwMGUwIGRpIGNhcGlyc2kgYWwgdm9sbyBuZWwgZ2lvY28gXCJpbnRlc2EgdmluY2VudGVcIiBjaGUgc3RhYmlsaXNjZSBpIGNhbXBpb25pIGRlbGxhIHB1bnRhdGEuIFNvbG8gbG9ybyBhdnJhbm5vIGFjY2Vzc28gYWwgZ2lvY28gZmluYWxlIGUgYWxsYSBwb3NzaWJpbGl0XHUwMGUwIGRpIGFnZ2l1ZGljYXJzaSBpbCBtb250ZXByZW1pIGFjY3VtdWxhdG8uXG5cbkEgU2VndWlyZTogW0JdVEVMRUdJT1JOQUxFWy9CXVxuIgogICAgfSwKICAgICJpdGVtbGlzdFBvc2l0aW9uIjogMCwKICAgICJ0aHVtYm5haWwiOiAiaHR0cHM6Ly9yYXcuZ2l0aHVidXNlcmNvbnRlbnQuY29tL2tvZGlvbmRlbWFuZC9tZWRpYS9tYXN0ZXIvbGl2ZS9yYWlfMS5wbmciLAogICAgInRpdGxlIjogIlJhaSAxIiwKICAgICJ1cmwiOiAiaHR0cHM6Ly93d3cucmFpcGxheS5pdC9kaXJldHRlL3JhaTEiLAogICAgInZpZGVvX3VybCI6ICJodHRwczovL3d3dy5yYWlwbGF5Lml0L2RpcmV0dGUvcmFpMS5qc29uIgp9'\n",
    "#REAL TIME diretta\n",
    "# path = \"plugin://plugin.video.kod/?ewogICAgImFjdGlvbiI6ICJmaW5kdmlkZW9zIiwKICAgICJhcmdzIjogIiIsCiAgICAiY2hhbm5lbCI6ICJkaXNjb3ZlcnlwbHVzIiwKICAgICJleHRyYSI6ICJtb3ZpZSIsCiAgICAiZm9sZGVyIjogdHJ1ZSwKICAgICJmdWxsdGl0bGUiOiAiUmVhbCBUaW1lIiwKICAgICJnbG9iYWxzZWFyY2giOiBmYWxzZSwKICAgICJpZCI6ICIzMTAiLAogICAgImluZm9MYWJlbHMiOiB7CiAgICAgICAgIm1lZGlhdHlwZSI6ICJtb3ZpZSIsCiAgICAgICAgInBsb3QiOiAiIgogICAgfSwKICAgICJpdGVtbGlzdFBvc2l0aW9uIjogMCwKICAgICJ0aHVtYm5haWwiOiAiaHR0cHM6Ly9yYXcuZ2l0aHVidXNlcmNvbnRlbnQuY29tL2tvZGlvbmRlbWFuZC9tZWRpYS9tYXN0ZXIvbGl2ZS9yZWFsX3RpbWUucG5nIiwKICAgICJ0aXRsZSI6ICJbQl1SZWFsIFRpbWVbL0JdIiwKICAgICJ1cmwiOiAiaHR0cHM6Ly93d3cuZGlzY292ZXJ5cGx1cy5jb20vY2FuYWxpL3JlYWwtdGltZSIKfQ%3D%3D\"\n",
    "#LA7 diretta\n",
    "# path = \"plugin://plugin.video.kod/?ewogICAgImFjdGlvbiI6ICJmaW5kdmlkZW9zIiwKICAgICJhcmdzIjogIiIsCiAgICAiY2hhbm5lbCI6ICJsYTciLAogICAgImV4dHJhIjogIm1vdmllIiwKICAgICJmb2xkZXIiOiB0cnVlLAogICAgImZvcmNldGh1bWIiOiB0cnVlLAogICAgImZ1bGx0aXRsZSI6ICJMYTciLAogICAgImdsb2JhbHNlYXJjaCI6IGZhbHNlLAogICAgImluZm9MYWJlbHMiOiB7CiAgICAgICAgIm1lZGlhdHlwZSI6ICJtb3ZpZSIKICAgIH0sCiAgICAiaXRlbWxpc3RQb3NpdGlvbiI6IDAsCiAgICAibm9fcmV0dXJuIjogdHJ1ZSwKICAgICJ0aHVtYm5haWwiOiAiaHR0cHM6Ly9yYXcuZ2l0aHVidXNlcmNvbnRlbnQuY29tL2tvZGlvbmRlbWFuZC9tZWRpYS9tYXN0ZXIvbGl2ZS9sYTcucG5nIiwKICAgICJ0aXRsZSI6ICJbQl1MYTdbL0JdIiwKICAgICJ1cmwiOiAiaHR0cHM6Ly93d3cubGE3Lml0L2RpcmV0dGUtdHYiCn0%3D\"\n",
    "path = \"plugin://plugin.video.rivedila7/?\"\n",
    "# path = \"plugin://plugin.video.kod/?ewogICAgImFjdGlvbiI6ICJsaXZlIiwKICAgICJjaGFubmVsIjogImZpbG1vbnR2IiwKICAgICJpbmZvTGFiZWxzIjoge30sCiAgICAiaXRlbWxpc3RQb3NpdGlvbiI6IDAsCiAgICAidGh1bWJuYWlsIjogImh0dHBzOi8vcmF3LmdpdGh1YnVzZXJjb250ZW50LmNvbS9rb2Rpb25kZW1hbmQvbWVkaWEvbWFzdGVyL3RoZW1lcy9kZWZhdWx0L3RodW1iX3R2c2hvd19vbl90aGVfYWlyLnBuZyIsCiAgICAidGl0bGUiOiAiW0JdQ2FuYWxpIGxpdmVbL0JdIgp9\"\n",
    "asd = utils.run([path.split(\"?\")[0], '3', path.split(\"?\")[-1]])"
   ]
  },
  {
   "cell_type": "code",
   "execution_count": 3,
   "id": "c2fc7058",
   "metadata": {},
   "outputs": [
    {
     "data": {
      "text/plain": [
       "[('plugin://plugin.video.kod/?ewogICAgImFjdGlvbiI6ICJtYWlubGlzdCIsCiAgICAiY2F0ZWdvcnkiOiAiQ2F0ZWdvcmllIiwKICAgICJjaGFubmVsIjogIm5ld3MiLAogICAgImNvbnRleHQiOiBbCiAgICAgICAgewogICAgICAgICAgICAiYWN0aW9uIjogIlNldHRpbmdPblBvc2l0aW9uIiwKICAgICAgICAgICAgImNhdGVnb3J5IjogNywKICAgICAgICAgICAgImNoYW5uZWwiOiAic2hvcnRjdXRzIiwKICAgICAgICAgICAgInNldHRpbmciOiAxLAogICAgICAgICAgICAidGl0bGUiOiAiQ29uZmlndXJhIG5vdml0XHUwMGUwIgogICAgICAgIH0KICAgIF0sCiAgICAiaW5mb0xhYmVscyI6IHt9LAogICAgIml0ZW1saXN0UG9zaXRpb24iOiAwLAogICAgInRodW1ibmFpbCI6ICJodHRwczovL3Jhdy5naXRodWJ1c2VyY29udGVudC5jb20va29kaW9uZGVtYW5kL21lZGlhL21hc3Rlci90aGVtZXMvZGVmYXVsdC90aHVtYl9uZXdzLnBuZyIsCiAgICAidGl0bGUiOiAiTm92aXRcdTAwZTAiLAogICAgInZpZXdtb2RlIjogInRodW1ibmFpbHMiCn0%3D',\n",
       "  <xbmcgui.ListItem at 0x16c69a34110>,\n",
       "  True,\n",
       "  9),\n",
       " ('plugin://plugin.video.kod/?ewogICAgImFjdGlvbiI6ICJnZXRjaGFubmVsdHlwZXMiLAogICAgImNhdGVnb3J5IjogIkNhdGVnb3JpZSIsCiAgICAiY2hhbm5lbCI6ICJjaGFubmVsc2VsZWN0b3IiLAogICAgImluZm9MYWJlbHMiOiB7fSwKICAgICJpdGVtbGlzdFBvc2l0aW9uIjogMSwKICAgICJ0aHVtYm5haWwiOiAiaHR0cHM6Ly9yYXcuZ2l0aHVidXNlcmNvbnRlbnQuY29tL2tvZGlvbmRlbWFuZC9tZWRpYS9tYXN0ZXIvdGhlbWVzL2RlZmF1bHQvdGh1bWJfY2hhbm5lbHMucG5nIiwKICAgICJ0aXRsZSI6ICJDYW5hbGkiLAogICAgInZpZXciOiAidGh1bWJfIiwKICAgICJ2aWV3bW9kZSI6ICJ0aHVtYm5haWxzIgp9',\n",
       "  <xbmcgui.ListItem at 0x16c69a34590>,\n",
       "  True,\n",
       "  9),\n",
       " ('plugin://plugin.video.kod/?ewogICAgImFjdGlvbiI6ICJtYWlubGlzdCIsCiAgICAiY2F0ZWdvcnkiOiAiQ2F0ZWdvcmllIiwKICAgICJjaGFubmVsIjogInNlYXJjaCIsCiAgICAiY29udGV4dCI6IFsKICAgICAgICB7CiAgICAgICAgICAgICJhY3Rpb24iOiAic2V0dGluZ19jaGFubmVsX25ldyIsCiAgICAgICAgICAgICJjaGFubmVsIjogInNlYXJjaCIsCiAgICAgICAgICAgICJ0aXRsZSI6ICJTY2VnbGkgaSBjYW5hbGkgZGEgaW5jbHVkZXJlIgogICAgICAgIH0sCiAgICAgICAgewogICAgICAgICAgICAiYWN0aW9uIjogIlNldHRpbmdPblBvc2l0aW9uIiwKICAgICAgICAgICAgImNhdGVnb3J5IjogNSwKICAgICAgICAgICAgImNoYW5uZWwiOiAic2hvcnRjdXRzIiwKICAgICAgICAgICAgInNldHRpbmciOiAxLAogICAgICAgICAgICAidGl0bGUiOiAiQ29uZmlndXJhIHJpY2VyY2EiCiAgICAgICAgfQogICAgXSwKICAgICJpbmZvTGFiZWxzIjoge30sCiAgICAiaXRlbWxpc3RQb3NpdGlvbiI6IDIsCiAgICAicGF0aCI6ICJzcGVjaWFsIiwKICAgICJ0aHVtYm5haWwiOiAiaHR0cHM6Ly9yYXcuZ2l0aHVidXNlcmNvbnRlbnQuY29tL2tvZGlvbmRlbWFuZC9tZWRpYS9tYXN0ZXIvdGhlbWVzL2RlZmF1bHQvdGh1bWJfc2VhcmNoLnBuZyIsCiAgICAidGl0bGUiOiAiUmljZXJjYSBnbG9iYWxlIiwKICAgICJ2aWV3bW9kZSI6ICJsaXN0Igp9',\n",
       "  <xbmcgui.ListItem at 0x16c69124450>,\n",
       "  True,\n",
       "  9),\n",
       " ('plugin://plugin.video.kod/?ewogICAgImFjdGlvbiI6ICJtYWlubGlzdCIsCiAgICAiY2hhbm5lbCI6ICJmaWxtb250diIsCiAgICAiaW5mb0xhYmVscyI6IHt9LAogICAgIml0ZW1saXN0UG9zaXRpb24iOiAzLAogICAgInRodW1ibmFpbCI6ICJodHRwczovL3Jhdy5naXRodWJ1c2VyY29udGVudC5jb20va29kaW9uZGVtYW5kL21lZGlhL21hc3Rlci90aGVtZXMvZGVmYXVsdC90aHVtYl9vbl90aGVfYWlyLnBuZyIsCiAgICAidGl0bGUiOiAiQWRlc3NvIGluIG9uZGEiLAogICAgInZpZXdtb2RlIjogInRodW1ibmFpbHMiCn0%3D',\n",
       "  <xbmcgui.ListItem at 0x16c69a36b50>,\n",
       "  True,\n",
       "  9),\n",
       " ('plugin://plugin.video.kod/?ewogICAgImFjdGlvbiI6ICJtYWlubGlzdCIsCiAgICAiY2F0ZWdvcnkiOiAiSSBtaWVpIGxpbmsiLAogICAgImNoYW5uZWwiOiAia29kZmF2b3JpdGVzIiwKICAgICJpbmZvTGFiZWxzIjoge30sCiAgICAiaXRlbWxpc3RQb3NpdGlvbiI6IDQsCiAgICAidGh1bWJuYWlsIjogImh0dHBzOi8vcmF3LmdpdGh1YnVzZXJjb250ZW50LmNvbS9rb2Rpb25kZW1hbmQvbWVkaWEvbWFzdGVyL3RoZW1lcy9kZWZhdWx0L3RodW1iX215bGluay5wbmciLAogICAgInRpdGxlIjogIkkgbWllaSBsaW5rIiwKICAgICJ2aWV3IjogInRodW1iXyIsCiAgICAidmlld21vZGUiOiAidGh1bWJuYWlscyIKfQ%3D%3D',\n",
       "  <xbmcgui.ListItem at 0x16c69a35dd0>,\n",
       "  True,\n",
       "  9),\n",
       " ('plugin://plugin.video.kod/?ewogICAgImFjdGlvbiI6ICJtYWlubGlzdCIsCiAgICAiY2F0ZWdvcnkiOiAiUHJlZmVyaXRpIiwKICAgICJjaGFubmVsIjogImZhdm9yaXRlcyIsCiAgICAiaW5mb0xhYmVscyI6IHt9LAogICAgIml0ZW1saXN0UG9zaXRpb24iOiA1LAogICAgInRodW1ibmFpbCI6ICJodHRwczovL3Jhdy5naXRodWJ1c2VyY29udGVudC5jb20va29kaW9uZGVtYW5kL21lZGlhL21hc3Rlci90aGVtZXMvZGVmYXVsdC90aHVtYl9mYXZvcml0ZXMucG5nIiwKICAgICJ0aXRsZSI6ICJQcmVmZXJpdGkiLAogICAgInZpZXdtb2RlIjogInRodW1ibmFpbHMiCn0%3D',\n",
       "  <xbmcgui.ListItem at 0x16c69a36210>,\n",
       "  True,\n",
       "  9),\n",
       " ('plugin://plugin.video.kod/?ewogICAgImFjdGlvbiI6ICJtYWlubGlzdCIsCiAgICAiY2F0ZWdvcnkiOiAiQ2F0ZWdvcmllIiwKICAgICJjaGFubmVsIjogInZpZGVvbGlicmFyeSIsCiAgICAiY29udGV4dCI6IFsKICAgICAgICB7CiAgICAgICAgICAgICJhY3Rpb24iOiAiU2V0dGluZ09uUG9zaXRpb24iLAogICAgICAgICAgICAiY2F0ZWdvcnkiOiAyLAogICAgICAgICAgICAiY2hhbm5lbCI6ICJzaG9ydGN1dHMiLAogICAgICAgICAgICAic2V0dGluZyI6IDEsCiAgICAgICAgICAgICJ0aXRsZSI6ICJJbXBvc3RhemlvbmkgdmlkZW90ZWNhIgogICAgICAgIH0sCiAgICAgICAgewogICAgICAgICAgICAiYWN0aW9uIjogInVwZGF0ZV92aWRlb2xpYnJhcnkiLAogICAgICAgICAgICAiY2hhbm5lbCI6ICJ2aWRlb2xpYnJhcnkiLAogICAgICAgICAgICAidGl0bGUiOiAiQWdnaW9ybmEgdmlkZW90ZWNhIgogICAgICAgIH0KICAgIF0sCiAgICAiaW5mb0xhYmVscyI6IHt9LAogICAgIml0ZW1saXN0UG9zaXRpb24iOiA2LAogICAgInRodW1ibmFpbCI6ICJodHRwczovL3Jhdy5naXRodWJ1c2VyY29udGVudC5jb20va29kaW9uZGVtYW5kL21lZGlhL21hc3Rlci90aGVtZXMvZGVmYXVsdC90aHVtYl92aWRlb2xpYnJhcnkucG5nIiwKICAgICJ0aXRsZSI6ICJWaWRlb3RlY2EiLAogICAgInZpZXdtb2RlIjogInRodW1ibmFpbHMiCn0%3D',\n",
       "  <xbmcgui.ListItem at 0x16c69a36d50>,\n",
       "  True,\n",
       "  9),\n",
       " ('plugin://plugin.video.kod/?ewogICAgImFjdGlvbiI6ICJzZXR0aW5ncyIsCiAgICAiY2F0ZWdvcnkiOiAiSW1wb3N0YXppb25pIiwKICAgICJjaGFubmVsIjogInNldHRpbmciLAogICAgImZvbGRlciI6IGZhbHNlLAogICAgImluZm9MYWJlbHMiOiB7fSwKICAgICJpdGVtbGlzdFBvc2l0aW9uIjogNywKICAgICJ0aHVtYm5haWwiOiAiaHR0cHM6Ly9yYXcuZ2l0aHVidXNlcmNvbnRlbnQuY29tL2tvZGlvbmRlbWFuZC9tZWRpYS9tYXN0ZXIvdGhlbWVzL2RlZmF1bHQvdGh1bWJfc2V0dGluZ18wLnBuZyIsCiAgICAidGl0bGUiOiAiSW1wb3N0YXppb25pIiwKICAgICJ2aWV3bW9kZSI6ICJsaXN0Igp9',\n",
       "  <xbmcgui.ListItem at 0x16c69a372d0>,\n",
       "  False,\n",
       "  9),\n",
       " ('plugin://plugin.video.kod/?ewogICAgImFjdGlvbiI6ICJtYWlubGlzdCIsCiAgICAiY2F0ZWdvcnkiOiAiQWl1dG8iLAogICAgImNoYW5uZWwiOiAiaGVscCIsCiAgICAiaW5mb0xhYmVscyI6IHt9LAogICAgIml0ZW1saXN0UG9zaXRpb24iOiA4LAogICAgInRodW1ibmFpbCI6ICJodHRwczovL3Jhdy5naXRodWJ1c2VyY29udGVudC5jb20va29kaW9uZGVtYW5kL21lZGlhL21hc3Rlci90aGVtZXMvZGVmYXVsdC90aHVtYl9oZWxwLnBuZyIsCiAgICAidGl0bGUiOiAiQWl1dG8gKHYxLjcuNyA/PykiLAogICAgInZpZXdtb2RlIjogImxpc3QiCn0%3D',\n",
       "  <xbmcgui.ListItem at 0x16c69a37990>,\n",
       "  True,\n",
       "  9)]"
      ]
     },
     "execution_count": 3,
     "metadata": {},
     "output_type": "execute_result"
    }
   ],
   "source": [
    "asd"
   ]
  },
  {
   "cell_type": "code",
   "execution_count": null,
   "id": "6fd7082a",
   "metadata": {},
   "outputs": [],
   "source": [
    "from xbmcgui import MockGUI\n",
    "mock_gui = MockGUI()\n",
    "widgets = mock_gui.get_widgets()\n",
    "widgets\n",
    "mock_gui.get_logs()"
   ]
  },
  {
   "cell_type": "code",
   "execution_count": null,
   "id": "bdd4ecc4",
   "metadata": {},
   "outputs": [],
   "source": [
    "from utils import decode_plugin_path\n",
    "\n",
    "for dir_item in plugin['directory_item']:\n",
    "    path, listitem, is_folder, __ = dir_item\n",
    "    print(is_folder, decode_plugin_path(path))"
   ]
  }
 ],
 "metadata": {
  "kernelspec": {
   "display_name": "Python 3 (ipykernel)",
   "language": "python",
   "name": "python3"
  },
  "language_info": {
   "codemirror_mode": {
    "name": "ipython",
    "version": 3
   },
   "file_extension": ".py",
   "mimetype": "text/x-python",
   "name": "python",
   "nbconvert_exporter": "python",
   "pygments_lexer": "ipython3",
   "version": "3.11.9"
  }
 },
 "nbformat": 4,
 "nbformat_minor": 5
}
