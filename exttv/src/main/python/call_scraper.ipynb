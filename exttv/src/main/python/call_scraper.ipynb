{
 "cells": [
  {
   "cell_type": "code",
   "execution_count": null,
   "id": "fc2aebf5",
   "metadata": {},
   "outputs": [],
   "source": [
    "# !pip install urllib3==1.26.15 requests-toolbelt==0.10.1\n",
    "# !pip install requests==2.27.1 --user"
   ]
  },
  {
   "cell_type": "code",
   "execution_count": null,
   "id": "acd5cab3",
   "metadata": {},
   "outputs": [],
   "source": [
    "import os\n",
    "import sys\n",
    "import utils\n",
    "\n",
    "from xbmcplugin import PluginRecorder\n",
    "plugin = PluginRecorder()\n",
    "\n",
    "# utils.init(os.path.expanduser(\"~\"))\n",
    "utils.init('.')\n",
    "\n",
    "kod_folder_name = 'plugin.video.kod'\n",
    "url = 'https://github.com/kodiondemand/addon/archive/refs/heads/master.zip'\n",
    "utils.download_and_extract_plugin(url, kod_folder_name, False)\n",
    "\n",
    "sys.path.append(os.path.join(utils.full_addons_path(), kod_folder_name))"
   ]
  },
  {
   "cell_type": "code",
   "execution_count": null,
   "id": "5c51553d-2acc-49ba-85ed-09d0c79f0a3f",
   "metadata": {},
   "outputs": [],
   "source": [
    "# argv2 = '?ewogICAgImFjdGlvbiI6ICJtYWlubGlzdCIsCiAgICAiY2F0ZWdvcnkiOiAiQ2F0ZWdvcmllIiwKICAgICJjaGFubmVsIjogIm5ld3MiLAogICAgImNvbnRleHQiOiBbCiAgICAgICAgewogICAgICAgICAgICAiYWN0aW9uIjogIlNldHRpbmdPblBvc2l0aW9uIiwKICAgICAgICAgICAgImNhdGVnb3J5IjogNywKICAgICAgICAgICAgImNoYW5uZWwiOiAic2hvcnRjdXRzIiwKICAgICAgICAgICAgInNldHRpbmciOiAxLAogICAgICAgICAgICAidGl0bGUiOiAiQ29uZmlndXJhIG5vdml0XHUwMGUwIgogICAgICAgIH0KICAgIF0sCiAgICAiaW5mb0xhYmVscyI6IHt9LAogICAgIml0ZW1saXN0UG9zaXRpb24iOiAwLAogICAgInRodW1ibmFpbCI6ICJodHRwczovL3Jhdy5naXRodWJ1c2VyY29udGVudC5jb20va29kaW9uZGVtYW5kL21lZGlhL21hc3Rlci90aGVtZXMvZGVmYXVsdC90aHVtYl9uZXdzLnBuZyIsCiAgICAidGl0bGUiOiAiTm92aXRcdTAwZTAiLAogICAgInZpZXdtb2RlIjogInRodW1ibmFpbHMiCn0%3D'\n",
    "# argv2 = '?ewogICAgImFjdGlvbiI6ICJub3ZlZGFkZXMiLAogICAgImNhdGVnb3J5IjogIk5vdml0XHUwMGUwIGluIEZpbG0iLAogICAgImNoYW5uZWwiOiAibmV3cyIsCiAgICAiY29udGV4dCI6IFsKICAgICAgICB7CiAgICAgICAgICAgICJhY3Rpb24iOiAic2V0dGluZ19jaGFubmVsIiwKICAgICAgICAgICAgImNoYW5uZWwiOiAibmV3cyIsCiAgICAgICAgICAgICJleHRyYSI6ICJwZWxpY3VsYXMiLAogICAgICAgICAgICAidGl0bGUiOiAiQ2FuYWxpIGluY2x1c2kgaW46IEZpbG0iCiAgICAgICAgfQogICAgXSwKICAgICJleHRyYSI6ICJwZWxpY3VsYXMiLAogICAgImluZm9MYWJlbHMiOiB7CiAgICAgICAgIm1lZGlhdHlwZSI6ICJtb3ZpZSIKICAgIH0sCiAgICAiaXRlbWxpc3RQb3NpdGlvbiI6IDAsCiAgICAidGh1bWJuYWlsIjogImh0dHBzOi8vcmF3LmdpdGh1YnVzZXJjb250ZW50LmNvbS9rb2Rpb25kZW1hbmQvbWVkaWEvbWFzdGVyL3RoZW1lcy9kZWZhdWx0L3RodW1iX21vdmllLnBuZyIsCiAgICAidGl0bGUiOiAiRmlsbSIKfQ%3D%3D'\n",
    "# path = 'plugin://plugin.video.kod/?ewogICAgImFjdGlvbiI6ICJmaW5kdmlkZW9zIiwKICAgICJhcmdzIjogIiIsCiAgICAiY2hhbm5lbCI6ICJsYTciLAogICAgImV4dHJhIjogIm1vdmllIiwKICAgICJmb2xkZXIiOiB0cnVlLAogICAgImZvcmNldGh1bWIiOiB0cnVlLAogICAgImZ1bGx0aXRsZSI6ICJMYTciLAogICAgImdsb2JhbHNlYXJjaCI6IGZhbHNlLAogICAgImluZm9MYWJlbHMiOiB7CiAgICAgICAgIm1lZGlhdHlwZSI6ICJtb3ZpZSIKICAgIH0sCiAgICAiaXRlbWxpc3RQb3NpdGlvbiI6IDAsCiAgICAibm9fcmV0dXJuIjogdHJ1ZSwKICAgICJ0aHVtYm5haWwiOiAiaHR0cHM6Ly9yYXcuZ2l0aHVidXNlcmNvbnRlbnQuY29tL2tvZGlvbmRlbWFuZC9tZWRpYS9tYXN0ZXIvbGl2ZS9sYTcucG5nIiwKICAgICJ0aXRsZSI6ICJbQl1MYTdbL0JdIiwKICAgICJ1cmwiOiAiaHR0cHM6Ly93d3cubGE3Lml0L2RpcmV0dGUtdHYiCn0%3D'\n",
    "# argv2 = \"?ewogICAgImFjdGlvbiI6ICJub3ZlZGFkZXMiLAogICAgImNhdGVnb3J5IjogIk5vdml0XHUwMGUwIGluIEZpbG0iLAogICAgImNoYW5uZWwiOiAibmV3cyIsCiAgICAiY29udGV4dCI6IFsKICAgICAgICB7CiAgICAgICAgICAgICJhY3Rpb24iOiAic2V0dGluZ19jaGFubmVsIiwKICAgICAgICAgICAgImNoYW5uZWwiOiAibmV3cyIsCiAgICAgICAgICAgICJleHRyYSI6ICJwZWxpY3VsYXMiLAogICAgICAgICAgICAidGl0bGUiOiAiQ2FuYWxpIGluY2x1c2kgaW46IEZpbG0iCiAgICAgICAgfQogICAgXSwKICAgICJleHRyYSI6ICJwZWxpY3VsYXMiLAogICAgImluZm9MYWJlbHMiOiB7CiAgICAgICAgIm1lZGlhdHlwZSI6ICJtb3ZpZSIKICAgIH0sCiAgICAiaXRlbWxpc3RQb3NpdGlvbiI6IDAsCiAgICAidGh1bWJuYWlsIjogImh0dHBzOi8vcmF3LmdpdGh1YnVzZXJjb250ZW50LmNvbS9rb2Rpb25kZW1hbmQvbWVkaWEvbWFzdGVyL3RoZW1lcy9kZWZhdWx0L3RodW1iX21vdmllLnBuZyIsCiAgICAidGl0bGUiOiAiRmlsbSIKfQ%3D%3D\"\n",
    "# argv2 = \"?ewogICAgImFjdGlvbiI6ICJmaW5kdmlkZW9zIiwKICAgICJhcmdzIjogIiIsCiAgICAiY2hhbm5lbCI6ICJsYTciLAogICAgImV4dHJhIjogIm1vdmllIiwKICAgICJmb2xkZXIiOiB0cnVlLAogICAgImZvcmNldGh1bWIiOiB0cnVlLAogICAgImZ1bGx0aXRsZSI6ICJMYTciLAogICAgImdsb2JhbHNlYXJjaCI6IGZhbHNlLAogICAgImluZm9MYWJlbHMiOiB7CiAgICAgICAgIm1lZGlhdHlwZSI6ICJtb3ZpZSIKICAgIH0sCiAgICAiaXRlbWxpc3RQb3NpdGlvbiI6IDAsCiAgICAibm9fcmV0dXJuIjogdHJ1ZSwKICAgICJ0aHVtYm5haWwiOiAiaHR0cHM6Ly9yYXcuZ2l0aHVidXNlcmNvbnRlbnQuY29tL2tvZGlvbmRlbWFuZC9tZWRpYS9tYXN0ZXIvbGl2ZS9sYTcucG5nIiwKICAgICJ0aXRsZSI6ICJbQl1MYTdbL0JdIiwKICAgICJ1cmwiOiAiaHR0cHM6Ly93d3cubGE3Lml0L2RpcmV0dGUtdHYiCn0%3D\"\n",
    "# path = \"plugin://plugin.video.kod/?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%3D\"\n",
    "\n",
    "# Rai1 diretta\n",
    "# path = 'plugin://plugin.video.kod/?ewogICAgImFjdGlvbiI6ICJmaW5kdmlkZW9zIiwKICAgICJhcmdzIjogIi9wYWxpbnNlc3RvL29uQWlyLmpzb24iLAogICAgImNoYW5uZWwiOiAicmFpcGxheSIsCiAgICAiZXh0cmEiOiAibW92aWUiLAogICAgImZhbmFydCI6ICJodHRwczovL3d3dy5yYWlwbGF5Lml0L2RsL2ltZy8yMDI0LzA3LzMwLzE3MjIzNTgwNDIwMjRfMTcyMjM1ODAwNTY3NS5wbmciLAogICAgImZvbGRlciI6IHRydWUsCiAgICAiZm9yY2V0aHVtYiI6IHRydWUsCiAgICAiZnVsbHRpdGxlIjogIlJhaSAxIiwKICAgICJnbG9iYWxzZWFyY2giOiBmYWxzZSwKICAgICJpbmZvTGFiZWxzIjogewogICAgICAgICJtZWRpYXR5cGUiOiAibW92aWUiLAogICAgICAgICJwbG90IjogIltCXVJlYXppb25lIGEgQ2F0ZW5hIC0gUHVudGF0YSBkZWwgMzAvMDcvMjAyNFsvQl1cbklsIGdpb2NvIGNoZSwgYXR0cmF2ZXJzbyBsJ2Fzc29jaWF6aW9uZSBsb2dpY2EgZGkgcGFyb2xlLCBtZXR0ZSBhbGxhIHByb3ZhIGwnaW50dWl0bywgbGEgcHJvbnRlenphIGUgbGEgcGFkcm9uYW56YSBkZWxsYSBsaW5ndWEgaXRhbGlhbmEgZGVpIGNvbmNvcnJlbnRpIG1hIGFuY2hlIGRlaSB0ZWxlc3BldHRhdG9yaS4gMyBnaW9jYXRvcmkgdHJhIGFtaWNpLCBjb2xsZWdoaSBvIHBhcmVudGksIHNpIHNmaWRhbm8gc3VsbGEgbG9ybyBjYXBhY2l0XHUwMGUwIGRpIGluZG92aW5hcmUsIGZvcm1hcmUsIGNvbXBsZXRhcmUgZSBvcmRpbmFyZSBwYXJvbGUgZSBcImNhdGVuZVwiIGRpIHZvY2Fib2xpLiBTYXJcdTAwZTAgc29wcmF0dHV0dG8gZGVjaXNpdmEgbGEgbG9ybyBjYXBhY2l0XHUwMGUwIGRpIGNhcGlyc2kgYWwgdm9sbyBuZWwgZ2lvY28gXCJpbnRlc2EgdmluY2VudGVcIiBjaGUgc3RhYmlsaXNjZSBpIGNhbXBpb25pIGRlbGxhIHB1bnRhdGEuIFNvbG8gbG9ybyBhdnJhbm5vIGFjY2Vzc28gYWwgZ2lvY28gZmluYWxlIGUgYWxsYSBwb3NzaWJpbGl0XHUwMGUwIGRpIGFnZ2l1ZGljYXJzaSBpbCBtb250ZXByZW1pIGFjY3VtdWxhdG8uXG5cbkEgU2VndWlyZTogW0JdVEVMRUdJT1JOQUxFWy9CXVxuIgogICAgfSwKICAgICJpdGVtbGlzdFBvc2l0aW9uIjogMCwKICAgICJ0aHVtYm5haWwiOiAiaHR0cHM6Ly9yYXcuZ2l0aHVidXNlcmNvbnRlbnQuY29tL2tvZGlvbmRlbWFuZC9tZWRpYS9tYXN0ZXIvbGl2ZS9yYWlfMS5wbmciLAogICAgInRpdGxlIjogIlJhaSAxIiwKICAgICJ1cmwiOiAiaHR0cHM6Ly93d3cucmFpcGxheS5pdC9kaXJldHRlL3JhaTEiLAogICAgInZpZGVvX3VybCI6ICJodHRwczovL3d3dy5yYWlwbGF5Lml0L2RpcmV0dGUvcmFpMS5qc29uIgp9'\n",
    "#REAL TIME diretta\n",
    "# path = \"plugin://plugin.video.kod/?ewogICAgImFjdGlvbiI6ICJmaW5kdmlkZW9zIiwKICAgICJhcmdzIjogIiIsCiAgICAiY2hhbm5lbCI6ICJkaXNjb3ZlcnlwbHVzIiwKICAgICJleHRyYSI6ICJtb3ZpZSIsCiAgICAiZm9sZGVyIjogdHJ1ZSwKICAgICJmdWxsdGl0bGUiOiAiUmVhbCBUaW1lIiwKICAgICJnbG9iYWxzZWFyY2giOiBmYWxzZSwKICAgICJpZCI6ICIzMTAiLAogICAgImluZm9MYWJlbHMiOiB7CiAgICAgICAgIm1lZGlhdHlwZSI6ICJtb3ZpZSIsCiAgICAgICAgInBsb3QiOiAiIgogICAgfSwKICAgICJpdGVtbGlzdFBvc2l0aW9uIjogMCwKICAgICJ0aHVtYm5haWwiOiAiaHR0cHM6Ly9yYXcuZ2l0aHVidXNlcmNvbnRlbnQuY29tL2tvZGlvbmRlbWFuZC9tZWRpYS9tYXN0ZXIvbGl2ZS9yZWFsX3RpbWUucG5nIiwKICAgICJ0aXRsZSI6ICJbQl1SZWFsIFRpbWVbL0JdIiwKICAgICJ1cmwiOiAiaHR0cHM6Ly93d3cuZGlzY292ZXJ5cGx1cy5jb20vY2FuYWxpL3JlYWwtdGltZSIKfQ%3D%3D\"\n",
    "#LA7 diretta\n",
    "# path = \"plugin://plugin.video.kod/?ewogICAgImFjdGlvbiI6ICJmaW5kdmlkZW9zIiwKICAgICJhcmdzIjogIiIsCiAgICAiY2hhbm5lbCI6ICJsYTciLAogICAgImV4dHJhIjogIm1vdmllIiwKICAgICJmb2xkZXIiOiB0cnVlLAogICAgImZvcmNldGh1bWIiOiB0cnVlLAogICAgImZ1bGx0aXRsZSI6ICJMYTciLAogICAgImdsb2JhbHNlYXJjaCI6IGZhbHNlLAogICAgImluZm9MYWJlbHMiOiB7CiAgICAgICAgIm1lZGlhdHlwZSI6ICJtb3ZpZSIKICAgIH0sCiAgICAiaXRlbWxpc3RQb3NpdGlvbiI6IDAsCiAgICAibm9fcmV0dXJuIjogdHJ1ZSwKICAgICJ0aHVtYm5haWwiOiAiaHR0cHM6Ly9yYXcuZ2l0aHVidXNlcmNvbnRlbnQuY29tL2tvZGlvbmRlbWFuZC9tZWRpYS9tYXN0ZXIvbGl2ZS9sYTcucG5nIiwKICAgICJ0aXRsZSI6ICJbQl1MYTdbL0JdIiwKICAgICJ1cmwiOiAiaHR0cHM6Ly93d3cubGE3Lml0L2RpcmV0dGUtdHYiCn0%3D\"\n",
    "# path = \"plugin://plugin.video.kod/?\"\n",
    "path = \"plugin://plugin.video.kod/?ewogICAgImFjdGlvbiI6ICJsaXZlIiwKICAgICJjaGFubmVsIjogImZpbG1vbnR2IiwKICAgICJpbmZvTGFiZWxzIjoge30sCiAgICAiaXRlbWxpc3RQb3NpdGlvbiI6IDAsCiAgICAidGh1bWJuYWlsIjogImh0dHBzOi8vcmF3LmdpdGh1YnVzZXJjb250ZW50LmNvbS9rb2Rpb25kZW1hbmQvbWVkaWEvbWFzdGVyL3RoZW1lcy9kZWZhdWx0L3RodW1iX3R2c2hvd19vbl90aGVfYWlyLnBuZyIsCiAgICAidGl0bGUiOiAiW0JdQ2FuYWxpIGxpdmVbL0JdIgp9\"\n",
    "asd = utils.run([path.split(\"?\")[0], '3', path.split(\"?\")[-1]])"
   ]
  },
  {
   "cell_type": "code",
   "execution_count": null,
   "id": "c2fc7058",
   "metadata": {},
   "outputs": [],
   "source": [
    "asd"
   ]
  },
  {
   "cell_type": "code",
   "execution_count": null,
   "id": "6fd7082a",
   "metadata": {},
   "outputs": [],
   "source": [
    "from xbmcgui import MockGUI\n",
    "mock_gui = MockGUI()\n",
    "widgets = mock_gui.get_widgets()\n",
    "widgets\n",
    "mock_gui.get_logs()"
   ]
  },
  {
   "cell_type": "code",
   "execution_count": null,
   "id": "bdd4ecc4",
   "metadata": {},
   "outputs": [],
   "source": [
    "from utils import decode_plugin_path\n",
    "\n",
    "for dir_item in plugin['directory_item']:\n",
    "    path, listitem, is_folder, __ = dir_item\n",
    "    print(is_folder, decode_plugin_path(path))"
   ]
  }
 ],
 "metadata": {
  "kernelspec": {
   "display_name": "Python 3 (ipykernel)",
   "language": "python",
   "name": "python3"
  },
  "language_info": {
   "codemirror_mode": {
    "name": "ipython",
    "version": 3
   },
   "file_extension": ".py",
   "mimetype": "text/x-python",
   "name": "python",
   "nbconvert_exporter": "python",
   "pygments_lexer": "ipython3",
   "version": "3.11.9"
  }
 },
 "nbformat": 4,
 "nbformat_minor": 5
}
