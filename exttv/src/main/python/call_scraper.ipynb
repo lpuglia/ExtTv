{
 "cells": [
  {
   "cell_type": "code",
   "execution_count": null,
   "id": "fc2aebf5",
   "metadata": {},
   "outputs": [],
   "source": [
    "# !pip install urllib3==1.26.15 requests-toolbelt==0.10.1\n",
    "# !pip install requests==2.27.1 --user"
   ]
  },
  {
   "cell_type": "code",
   "execution_count": null,
   "id": "acd5cab3",
   "metadata": {},
   "outputs": [],
   "source": [
    "import os\n",
    "import sys\n",
    "import utils\n",
    "\n",
    "from xbmcplugin import PluginRecorder\n",
    "plugin = PluginRecorder()\n",
    "\n",
    "# utils.init(os.path.expanduser(\"~\"))\n",
    "utils.init('.')\n",
    "\n",
    "kod_folder_name = 'plugin.video.kod'\n",
    "url = 'https://github.com/kodiondemand/addon/archive/refs/heads/master.zip'\n",
    "utils.download_and_extract_plugin(url, kod_folder_name, False)\n",
    "\n",
    "sys.path.append(os.path.join(utils.full_addons_path(), kod_folder_name))"
   ]
  },
  {
   "cell_type": "code",
   "execution_count": null,
   "id": "5c51553d-2acc-49ba-85ed-09d0c79f0a3f",
   "metadata": {},
   "outputs": [],
   "source": [
    "# argv2 = '?ewogICAgImFjdGlvbiI6ICJtYWlubGlzdCIsCiAgICAiY2F0ZWdvcnkiOiAiQ2F0ZWdvcmllIiwKICAgICJjaGFubmVsIjogIm5ld3MiLAogICAgImNvbnRleHQiOiBbCiAgICAgICAgewogICAgICAgICAgICAiYWN0aW9uIjogIlNldHRpbmdPblBvc2l0aW9uIiwKICAgICAgICAgICAgImNhdGVnb3J5IjogNywKICAgICAgICAgICAgImNoYW5uZWwiOiAic2hvcnRjdXRzIiwKICAgICAgICAgICAgInNldHRpbmciOiAxLAogICAgICAgICAgICAidGl0bGUiOiAiQ29uZmlndXJhIG5vdml0XHUwMGUwIgogICAgICAgIH0KICAgIF0sCiAgICAiaW5mb0xhYmVscyI6IHt9LAogICAgIml0ZW1saXN0UG9zaXRpb24iOiAwLAogICAgInRodW1ibmFpbCI6ICJodHRwczovL3Jhdy5naXRodWJ1c2VyY29udGVudC5jb20va29kaW9uZGVtYW5kL21lZGlhL21hc3Rlci90aGVtZXMvZGVmYXVsdC90aHVtYl9uZXdzLnBuZyIsCiAgICAidGl0bGUiOiAiTm92aXRcdTAwZTAiLAogICAgInZpZXdtb2RlIjogInRodW1ibmFpbHMiCn0%3D'\n",
    "# argv2 = '?ewogICAgImFjdGlvbiI6ICJub3ZlZGFkZXMiLAogICAgImNhdGVnb3J5IjogIk5vdml0XHUwMGUwIGluIEZpbG0iLAogICAgImNoYW5uZWwiOiAibmV3cyIsCiAgICAiY29udGV4dCI6IFsKICAgICAgICB7CiAgICAgICAgICAgICJhY3Rpb24iOiAic2V0dGluZ19jaGFubmVsIiwKICAgICAgICAgICAgImNoYW5uZWwiOiAibmV3cyIsCiAgICAgICAgICAgICJleHRyYSI6ICJwZWxpY3VsYXMiLAogICAgICAgICAgICAidGl0bGUiOiAiQ2FuYWxpIGluY2x1c2kgaW46IEZpbG0iCiAgICAgICAgfQogICAgXSwKICAgICJleHRyYSI6ICJwZWxpY3VsYXMiLAogICAgImluZm9MYWJlbHMiOiB7CiAgICAgICAgIm1lZGlhdHlwZSI6ICJtb3ZpZSIKICAgIH0sCiAgICAiaXRlbWxpc3RQb3NpdGlvbiI6IDAsCiAgICAidGh1bWJuYWlsIjogImh0dHBzOi8vcmF3LmdpdGh1YnVzZXJjb250ZW50LmNvbS9rb2Rpb25kZW1hbmQvbWVkaWEvbWFzdGVyL3RoZW1lcy9kZWZhdWx0L3RodW1iX21vdmllLnBuZyIsCiAgICAidGl0bGUiOiAiRmlsbSIKfQ%3D%3D'\n",
    "# argv2 = ''\n",
    "argv2 = \"?ewogICAgImFjdGlvbiI6ICJub3ZlZGFkZXMiLAogICAgImNhdGVnb3J5IjogIk5vdml0XHUwMGUwIGluIEZpbG0iLAogICAgImNoYW5uZWwiOiAibmV3cyIsCiAgICAiY29udGV4dCI6IFsKICAgICAgICB7CiAgICAgICAgICAgICJhY3Rpb24iOiAic2V0dGluZ19jaGFubmVsIiwKICAgICAgICAgICAgImNoYW5uZWwiOiAibmV3cyIsCiAgICAgICAgICAgICJleHRyYSI6ICJwZWxpY3VsYXMiLAogICAgICAgICAgICAidGl0bGUiOiAiQ2FuYWxpIGluY2x1c2kgaW46IEZpbG0iCiAgICAgICAgfQogICAgXSwKICAgICJleHRyYSI6ICJwZWxpY3VsYXMiLAogICAgImluZm9MYWJlbHMiOiB7CiAgICAgICAgIm1lZGlhdHlwZSI6ICJtb3ZpZSIKICAgIH0sCiAgICAiaXRlbWxpc3RQb3NpdGlvbiI6IDAsCiAgICAidGh1bWJuYWlsIjogImh0dHBzOi8vcmF3LmdpdGh1YnVzZXJjb250ZW50LmNvbS9rb2Rpb25kZW1hbmQvbWVkaWEvbWFzdGVyL3RoZW1lcy9kZWZhdWx0L3RodW1iX21vdmllLnBuZyIsCiAgICAidGl0bGUiOiAiRmlsbSIKfQ%3D%3D\"\n",
    "# argv2 = \"?ewogICAgImFjdGlvbiI6ICJmaW5kdmlkZW9zIiwKICAgICJhcmdzIjogIiIsCiAgICAiY2hhbm5lbCI6ICJsYTciLAogICAgImV4dHJhIjogIm1vdmllIiwKICAgICJmb2xkZXIiOiB0cnVlLAogICAgImZvcmNldGh1bWIiOiB0cnVlLAogICAgImZ1bGx0aXRsZSI6ICJMYTciLAogICAgImdsb2JhbHNlYXJjaCI6IGZhbHNlLAogICAgImluZm9MYWJlbHMiOiB7CiAgICAgICAgIm1lZGlhdHlwZSI6ICJtb3ZpZSIKICAgIH0sCiAgICAiaXRlbWxpc3RQb3NpdGlvbiI6IDAsCiAgICAibm9fcmV0dXJuIjogdHJ1ZSwKICAgICJ0aHVtYm5haWwiOiAiaHR0cHM6Ly9yYXcuZ2l0aHVidXNlcmNvbnRlbnQuY29tL2tvZGlvbmRlbWFuZC9tZWRpYS9tYXN0ZXIvbGl2ZS9sYTcucG5nIiwKICAgICJ0aXRsZSI6ICJbQl1MYTdbL0JdIiwKICAgICJ1cmwiOiAiaHR0cHM6Ly93d3cubGE3Lml0L2RpcmV0dGUtdHYiCn0%3D\"\n",
    "[(i[0],i[1].art) for i in utils.run([f'plugin://{kod_folder_name}/', '3', argv2])]"
   ]
  },
  {
   "cell_type": "code",
   "execution_count": null,
   "id": "6fd7082a",
   "metadata": {},
   "outputs": [],
   "source": [
    "from xbmcgui import MockGUI\n",
    "mock_gui = MockGUI()\n",
    "widgets = mock_gui.get_widgets()\n",
    "widgets\n",
    "mock_gui.get_logs()"
   ]
  },
  {
   "cell_type": "code",
   "execution_count": null,
   "id": "bdd4ecc4",
   "metadata": {},
   "outputs": [],
   "source": [
    "from utils import decode_plugin_path\n",
    "\n",
    "for dir_item in plugin['directory_item']:\n",
    "    path, listitem, is_folder, __ = dir_item\n",
    "    print(is_folder, decode_plugin_path(path))"
   ]
  }
 ],
 "metadata": {
  "kernelspec": {
   "display_name": "Python 3 (ipykernel)",
   "language": "python",
   "name": "python3"
  },
  "language_info": {
   "codemirror_mode": {
    "name": "ipython",
    "version": 3
   },
   "file_extension": ".py",
   "mimetype": "text/x-python",
   "name": "python",
   "nbconvert_exporter": "python",
   "pygments_lexer": "ipython3",
   "version": "3.11.9"
  }
 },
 "nbformat": 4,
 "nbformat_minor": 5
}
