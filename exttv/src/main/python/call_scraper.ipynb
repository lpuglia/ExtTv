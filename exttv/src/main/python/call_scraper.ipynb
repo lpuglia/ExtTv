{
 "cells": [
  {
   "cell_type": "code",
   "execution_count": 3,
   "id": "fc2aebf5",
   "metadata": {},
   "outputs": [],
   "source": [
    "# !pip install urllib3==2.1.0 requests-toolbelt==0.10.1 --user\n",
    "# !pip install requests==2.31.0 --user\n",
    "# !pip install certifi==2023.5.7 --user\n",
    "# !pip install beautifulsoup4==4.12.2 --user"
   ]
  },
  {
   "cell_type": "code",
   "execution_count": null,
   "id": "acd5cab3",
   "metadata": {},
   "outputs": [],
   "source": [
    "import utils\n",
    "\n",
    "from xbmcplugin import PluginRecorder\n",
    "plugin = PluginRecorder()\n",
    "\n",
    "# utils.init(os.path.expanduser(\"~\"))\n",
    "utils.init('.')"
   ]
  },
  {
   "cell_type": "code",
   "execution_count": null,
   "id": "5c51553d-2acc-49ba-85ed-09d0c79f0a3f",
   "metadata": {},
   "outputs": [],
   "source": [
    "plugin_name = \"plugin.video.rivedila7\"\n",
    "path = f\"plugin://{plugin_name}/?\"\n",
    "\n",
    "asd = utils.run([path.split(\"?\")[0], '3', \"\"])#\"?\"+path.split(\"?\")[-1]])"
   ]
  },
  {
   "cell_type": "code",
   "execution_count": null,
   "id": "6fd7082a",
   "metadata": {},
   "outputs": [],
   "source": [
    "from xbmcgui import MockGUI\n",
    "mock_gui = MockGUI()\n",
    "widgets = mock_gui.get_widgets()\n",
    "widgets\n",
    "mock_gui.get_logs()"
   ]
  },
  {
   "cell_type": "code",
   "execution_count": null,
   "id": "bdd4ecc4",
   "metadata": {},
   "outputs": [],
   "source": [
    "from utils import decode_plugin_path\n",
    "\n",
    "for dir_item in plugin['directory_item']:\n",
    "    path, listitem, is_folder, __ = dir_item\n",
    "    print(is_folder, decode_plugin_path(path))"
   ]
  }
 ],
 "metadata": {
  "kernelspec": {
   "display_name": "Python 3 (ipykernel)",
   "language": "python",
   "name": "python3"
  },
  "language_info": {
   "codemirror_mode": {
    "name": "ipython",
    "version": 3
   },
   "file_extension": ".py",
   "mimetype": "text/x-python",
   "name": "python",
   "nbconvert_exporter": "python",
   "pygments_lexer": "ipython3",
   "version": "3.11.9"
  }
 },
 "nbformat": 4,
 "nbformat_minor": 5
}
