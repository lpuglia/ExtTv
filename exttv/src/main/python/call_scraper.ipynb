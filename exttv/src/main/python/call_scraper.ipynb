{
 "cells": [
  {
   "cell_type": "code",
   "execution_count": null,
   "id": "fc2aebf5",
   "metadata": {},
   "outputs": [],
   "source": [
    "# !pip install urllib3==1.26.15 requests-toolbelt==0.10.1\n",
    "# !pip install requests==2.27.1 --user"
   ]
  },
  {
   "cell_type": "code",
   "execution_count": 3,
   "id": "5c51553d-2acc-49ba-85ed-09d0c79f0a3f",
   "metadata": {},
   "outputs": [],
   "source": [
    "import os, sys\n",
    "sys.path.append('home/addons/plugin.video.kod')\n",
    "sys.argv[1] = '3'\n",
    "sys.argv.append(\"\")\n",
    "# import default"
   ]
  },
  {
   "cell_type": "code",
   "execution_count": 4,
   "id": "df5d8253",
   "metadata": {},
   "outputs": [
    {
     "name": "stdout",
     "output_type": "stream",
     "text": [
      "asd\n"
     ]
    }
   ],
   "source": [
    "import platformcode"
   ]
  },
  {
   "cell_type": "code",
   "execution_count": null,
   "id": "72be1eda",
   "metadata": {},
   "outputs": [],
   "source": [
    "from platformcode.updater import check\n",
    "check()"
   ]
  },
  {
   "cell_type": "code",
   "execution_count": null,
   "id": "0e4e578d",
   "metadata": {},
   "outputs": [],
   "source": [
    "from channelselector import *\n",
    "channels = filterchannels('live')\n",
    "livestreams = []\n",
    "for channel in channels:\n",
    "    exec(\"import channels.\" + channel.channel + \" as provider\")\n",
    "    for item in eval(f\"provider.mainlist(channel)\"):\n",
    "        if item.action == 'live':\n",
    "            for livechannels in (eval(f\"provider.{item.action}(item)\")):\n",
    "                livestreams.append(eval(\"provider.findvideos(livechannels)\"))\n",
    "livestreams"
   ]
  },
  {
   "cell_type": "code",
   "execution_count": null,
   "id": "7a45228b",
   "metadata": {},
   "outputs": [],
   "source": [
    "channel.mainlist(channels[13])"
   ]
  },
  {
   "cell_type": "code",
   "execution_count": null,
   "id": "84deea75",
   "metadata": {},
   "outputs": [],
   "source": [
    "from core.item import Item\n",
    "from channels import la7"
   ]
  },
  {
   "cell_type": "code",
   "execution_count": null,
   "id": "ab7395b9",
   "metadata": {},
   "outputs": [],
   "source": [
    "item = Item()\n",
    "item.channel = 'La7'\n",
    "item.global_search = True\n",
    "lives = la7.live(item)\n",
    "playable_items = []\n",
    "for live in lives:\n",
    "    playable_items.append(la7.findvideos(live))"
   ]
  },
  {
   "cell_type": "code",
   "execution_count": null,
   "id": "bd280589",
   "metadata": {},
   "outputs": [],
   "source": [
    "playable_items"
   ]
  }
 ],
 "metadata": {
  "kernelspec": {
   "display_name": "Python 3 (ipykernel)",
   "language": "python",
   "name": "python3"
  },
  "language_info": {
   "codemirror_mode": {
    "name": "ipython",
    "version": 3
   },
   "file_extension": ".py",
   "mimetype": "text/x-python",
   "name": "python",
   "nbconvert_exporter": "python",
   "pygments_lexer": "ipython3",
   "version": "3.11.4"
  }
 },
 "nbformat": 4,
 "nbformat_minor": 5
}
